{
 "cells": [
  {
   "cell_type": "code",
   "execution_count": 1,
   "id": "c4f5a746",
   "metadata": {},
   "outputs": [
    {
     "name": "stdout",
     "output_type": "stream",
     "text": [
      "goodnight \n",
      "\n",
      "['2', 'people', True, 3450] \n",
      "\n",
      "4.567 \n",
      "\n",
      "('3', 'apple', False, 8970) \n",
      "\n"
     ]
    }
   ],
   "source": [
    "#Q1. Create one variable containing following type of data:\n",
    "#string\n",
    "a=\"goodnight\"\n",
    "print(a,\"\\n\")\n",
    "\n",
    "#list\n",
    "list=[\"2\",\"people\",True,3450]\n",
    "print(list,\"\\n\")\n",
    "\n",
    "#float\n",
    "f=4.567\n",
    "print(f,\"\\n\")\n",
    "\n",
    "#tuple\n",
    "tuple=(\"3\",\"apple\",False,8970)\n",
    "print(tuple,\"\\n\")"
   ]
  },
  {
   "cell_type": "code",
   "execution_count": 2,
   "id": "496faefe",
   "metadata": {},
   "outputs": [
    {
     "name": "stdout",
     "output_type": "stream",
     "text": [
      "<class 'str'> \n",
      "\n",
      "<class 'str'> \n",
      "\n",
      "<class 'list'> \n",
      "\n",
      "<class 'int'> \n",
      "\n"
     ]
    }
   ],
   "source": [
    "#Q2. Given are some following variables containing data: What will be the data type of the above given variable.\n",
    "var1 = \" \"\n",
    "print(type(var1),\"\\n\")\n",
    "var2 = '[ DS , ML , Python]'\n",
    "print(type(var2),\"\\n\")\n",
    "var3 = [ 'DS' , 'ML' , 'Python']\n",
    "print(type(var3),\"\\n\")\n",
    "var4 = 1\n",
    "print(type(var4),\"\\n\")"
   ]
  },
  {
   "cell_type": "code",
   "execution_count": 3,
   "id": "9668d867",
   "metadata": {},
   "outputs": [
    {
     "name": "stdout",
     "output_type": "stream",
     "text": [
      "2.0 \n",
      "\n",
      "1 \n",
      "\n",
      "1 \n",
      "\n",
      "16 \n",
      "\n"
     ]
    }
   ],
   "source": [
    "'''Q3. Explain the use of the following operators using an example:\n",
    "(i) /\n",
    "(ii) %\n",
    "(iii) //\n",
    "(iv) ** '''\n",
    " \n",
    "division= 4/2\n",
    "print(division,\"\\n\")\n",
    "remainder= 9%2\n",
    "print(remainder,\"\\n\")\n",
    "floor_division= 5//3\n",
    "print(floor_division,\"\\n\")\n",
    "power= 2**4\n",
    "print(power,\"\\n\")"
   ]
  },
  {
   "cell_type": "code",
   "execution_count": 4,
   "id": "fd6160aa",
   "metadata": {},
   "outputs": [
    {
     "name": "stdout",
     "output_type": "stream",
     "text": [
      "List:  ['people', True, 5.67, 30, 'apples', 987, 3.14, False, 90, 'red'] \n",
      "\n",
      "people\n",
      "<class 'str'> \n",
      "\n",
      "True\n",
      "<class 'bool'> \n",
      "\n",
      "5.67\n",
      "<class 'float'> \n",
      "\n",
      "30\n",
      "<class 'int'> \n",
      "\n",
      "apples\n",
      "<class 'str'> \n",
      "\n",
      "987\n",
      "<class 'int'> \n",
      "\n",
      "3.14\n",
      "<class 'float'> \n",
      "\n",
      "False\n",
      "<class 'bool'> \n",
      "\n",
      "90\n",
      "<class 'int'> \n",
      "\n",
      "red\n",
      "<class 'str'> \n",
      "\n"
     ]
    }
   ],
   "source": [
    "#Q4.Create a list of len 10 of your choice containing multiple types of data. Using for loop print the element & its data type.\n",
    "list_10=[\"people\",True,5.67,30,\"apples\",987,3.14,False,90,\"red\"]\n",
    "print(\"List: \",list_10,\"\\n\")\n",
    "\n",
    "for i in list_10:\n",
    "    print(i)\n",
    "    print(type(i),\"\\n\")\n"
   ]
  },
  {
   "cell_type": "code",
   "execution_count": 6,
   "id": "2e4f73bb",
   "metadata": {},
   "outputs": [
    {
     "name": "stdout",
     "output_type": "stream",
     "text": [
      "Enter the value of A: 8\n",
      "Enter the value of B: 2\n",
      "8 is purely divisible by 2 and can be divided 3 times.\n"
     ]
    }
   ],
   "source": [
    "#Q5. Using a while loop,verify if the number A is divisible by number B and if so then how many times it can be divisible.\n",
    "A = C = int(input(\"Enter the value of A: \"))\n",
    "B = int(input(\"Enter the value of B: \"))\n",
    "\n",
    "count = 0\n",
    "while C % B == 0:\n",
    "    count += 1\n",
    "    C /= B\n",
    "\n",
    "if count > 0:\n",
    "    print(f\"{A} is purely divisible by {B} and can be divided {count} times.\")\n",
    "else:\n",
    "    print(f\"{A} is not purely divisible by {B}.\")"
   ]
  },
  {
   "cell_type": "code",
   "execution_count": 7,
   "id": "d6b30127",
   "metadata": {},
   "outputs": [
    {
     "name": "stdout",
     "output_type": "stream",
     "text": [
      "range(0, 25) \n",
      "\n",
      "0 is divisible by 3\n",
      "1 is not divisible by 3\n",
      "2 is not divisible by 3\n",
      "3 is divisible by 3\n",
      "4 is not divisible by 3\n",
      "5 is not divisible by 3\n",
      "6 is divisible by 3\n",
      "7 is not divisible by 3\n",
      "8 is not divisible by 3\n",
      "9 is divisible by 3\n",
      "10 is not divisible by 3\n",
      "11 is not divisible by 3\n",
      "12 is divisible by 3\n",
      "13 is not divisible by 3\n",
      "14 is not divisible by 3\n",
      "15 is divisible by 3\n",
      "16 is not divisible by 3\n",
      "17 is not divisible by 3\n",
      "18 is divisible by 3\n",
      "19 is not divisible by 3\n",
      "20 is not divisible by 3\n",
      "21 is divisible by 3\n",
      "22 is not divisible by 3\n",
      "23 is not divisible by 3\n",
      "24 is divisible by 3\n"
     ]
    }
   ],
   "source": [
    "#Create a list containing 25 int type data. Using for loop and if-else condition print if the element is divisible by 3 or not.\n",
    "list_25 = range(25)\n",
    "print(list_25,\"\\n\")\n",
    "\n",
    "for i in list_25:\n",
    "    if i % 3 == 0:\n",
    "        print(f\"{i} is divisible by 3\")\n",
    "    else:\n",
    "        print(f\"{i} is not divisible by 3\")"
   ]
  },
  {
   "cell_type": "code",
   "execution_count": 8,
   "id": "c5ec3df2",
   "metadata": {},
   "outputs": [
    {
     "name": "stdout",
     "output_type": "stream",
     "text": [
      "['apple', 'banana', 'cherry', 'mango', 'orange']\n"
     ]
    }
   ],
   "source": [
    "#What do you understand about mutable and immutable data types? Give examples for both showing this property.\n",
    "#Mutable data types can be altered after creation. For eg:\n",
    "list_mutable=[\"apple\",\"banana\",\"cherry\",\"mango\",\"orange\"]\n",
    "print(list_mutable)"
   ]
  },
  {
   "cell_type": "code",
   "execution_count": 9,
   "id": "aabf9e36",
   "metadata": {},
   "outputs": [
    {
     "name": "stdout",
     "output_type": "stream",
     "text": [
      "['apple', 'banana', 'plum', 'mango', 'orange']\n"
     ]
    }
   ],
   "source": [
    "list_mutable[2]=\"plum\"\n",
    "print(list_mutable)"
   ]
  },
  {
   "cell_type": "code",
   "execution_count": 18,
   "id": "44940fab",
   "metadata": {},
   "outputs": [
    {
     "name": "stdout",
     "output_type": "stream",
     "text": [
      "H\n",
      "e\n",
      "n\n",
      "r\n",
      "y\n"
     ]
    }
   ],
   "source": [
    "#Immutable data types can be altered after creation. For eg:\n",
    "name =\"Henry\"\n",
    "for i in range(len(name)):\n",
    "    print(name[i])"
   ]
  },
  {
   "cell_type": "code",
   "execution_count": 19,
   "id": "4777dec4",
   "metadata": {},
   "outputs": [
    {
     "ename": "TypeError",
     "evalue": "'str' object does not support item assignment",
     "output_type": "error",
     "traceback": [
      "\u001b[1;31m---------------------------------------------------------------------------\u001b[0m",
      "\u001b[1;31mTypeError\u001b[0m                                 Traceback (most recent call last)",
      "\u001b[1;32m~\\AppData\\Local\\Temp\\ipykernel_14408\\1058031073.py\u001b[0m in \u001b[0;36m<module>\u001b[1;34m\u001b[0m\n\u001b[1;32m----> 1\u001b[1;33m \u001b[0mname\u001b[0m\u001b[1;33m[\u001b[0m\u001b[1;36m2\u001b[0m\u001b[1;33m]\u001b[0m\u001b[1;33m=\u001b[0m\u001b[1;34m\"i\"\u001b[0m\u001b[1;33m\u001b[0m\u001b[1;33m\u001b[0m\u001b[0m\n\u001b[0m\u001b[0;32m      2\u001b[0m \u001b[0mprint\u001b[0m\u001b[1;33m(\u001b[0m\u001b[0mname\u001b[0m\u001b[1;33m)\u001b[0m\u001b[1;33m\u001b[0m\u001b[1;33m\u001b[0m\u001b[0m\n",
      "\u001b[1;31mTypeError\u001b[0m: 'str' object does not support item assignment"
     ]
    }
   ],
   "source": [
    "name[2]=\"i\"\n",
    "print(name)"
   ]
  },
  {
   "cell_type": "code",
   "execution_count": null,
   "id": "b2c6a2ee",
   "metadata": {},
   "outputs": [],
   "source": []
  }
 ],
 "metadata": {
  "kernelspec": {
   "display_name": "Python 3 (ipykernel)",
   "language": "python",
   "name": "python3"
  },
  "language_info": {
   "codemirror_mode": {
    "name": "ipython",
    "version": 3
   },
   "file_extension": ".py",
   "mimetype": "text/x-python",
   "name": "python",
   "nbconvert_exporter": "python",
   "pygments_lexer": "ipython3",
   "version": "3.9.13"
  }
 },
 "nbformat": 4,
 "nbformat_minor": 5
}
